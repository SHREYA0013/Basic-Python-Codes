{
 "cells": [
  {
   "cell_type": "markdown",
   "id": "e3d74c5e",
   "metadata": {},
   "source": [
    "# Python codes\n"
   ]
  },
  {
   "cell_type": "code",
   "execution_count": 4,
   "id": "9ced53c5",
   "metadata": {},
   "outputs": [
    {
     "name": "stdout",
     "output_type": "stream",
     "text": [
      "5 \n",
      " Hello\n"
     ]
    }
   ],
   "source": [
    "x=5\n",
    "y='Hello'\n",
    "print(x,\"\\n\",y)\n",
    "#single quotation or double quotation\n",
    "#comments are to make the code more readable\n",
    "#Python does not really have a syntax for multiline comments like C(/*.....*/)"
   ]
  },
  {
   "cell_type": "code",
   "execution_count": 5,
   "id": "96486d98",
   "metadata": {},
   "outputs": [
    {
     "name": "stdout",
     "output_type": "stream",
     "text": [
      "ABCD\n"
     ]
    }
   ],
   "source": [
    "\"\"\"\n",
    "This is a comment\n",
    "python will ignore these lines\n",
    "\"\"\"\n",
    "print(\"ABCD\")"
   ]
  },
  {
   "cell_type": "markdown",
   "id": "0def04aa",
   "metadata": {},
   "source": [
    "### CASTING & TYPE of variables:\n"
   ]
  },
  {
   "cell_type": "code",
   "execution_count": 9,
   "id": "cfa3b8d5",
   "metadata": {},
   "outputs": [
    {
     "name": "stdout",
     "output_type": "stream",
     "text": [
      "3 , 3 , 5.0\n"
     ]
    }
   ],
   "source": [
    "#casting= you want to specify the type of variable\n",
    "#type= you want to get the type of data\n",
    "x=str(3)\n",
    "y=int(3)\n",
    "z=float(5)\n",
    "print(x,\",\",y,\",\",z)"
   ]
  },
  {
   "cell_type": "code",
   "execution_count": 11,
   "id": "fe34baa0",
   "metadata": {},
   "outputs": [
    {
     "name": "stdout",
     "output_type": "stream",
     "text": [
      "<class 'str'>\n",
      "<class 'int'>\n"
     ]
    }
   ],
   "source": [
    "x='Shreya' #String variables can be declared either by using single or double quotes\n",
    "y=34\n",
    "print(type(x))\n",
    "print(type(y))"
   ]
  },
  {
   "cell_type": "code",
   "execution_count": 13,
   "id": "ba133a97",
   "metadata": {},
   "outputs": [
    {
     "name": "stdout",
     "output_type": "stream",
     "text": [
      "5\n"
     ]
    }
   ],
   "source": [
    "a=5\n",
    "A=6\n",
    "print(a) #Case sensitive\n",
    "#A variable name can only contain alpha-numeric characters and underscores (A-z, 0-9, and _ )"
   ]
  },
  {
   "cell_type": "code",
   "execution_count": 15,
   "id": "4b9e7a84",
   "metadata": {},
   "outputs": [
    {
     "name": "stdout",
     "output_type": "stream",
     "text": [
      "India \n",
      " America \n",
      " Australia\n"
     ]
    }
   ],
   "source": [
    "\"\"\"Camel Case:\n",
    "Each word, except the first, starts with a capital letter- myVariableName\n",
    "Pascal Case:\n",
    "MyVariableName\n",
    "Snake Case\n",
    "Each word is separated by an underscore character- my_var_name\n",
    "\"\"\"\n",
    "x,y,z=\"India\",\"America\",\"Australia\"\n",
    "print(x,\"\\n\",y,\"\\n\",z)"
   ]
  },
  {
   "cell_type": "code",
   "execution_count": 16,
   "id": "9abcdd56",
   "metadata": {},
   "outputs": [
    {
     "name": "stdout",
     "output_type": "stream",
     "text": [
      "India\n",
      "India\n",
      "India\n"
     ]
    }
   ],
   "source": [
    "a=b=c=\"India\"\n",
    "print(a)\n",
    "print(b)\n",
    "print(c)"
   ]
  },
  {
   "cell_type": "code",
   "execution_count": 18,
   "id": "fe29b8e5",
   "metadata": {},
   "outputs": [
    {
     "name": "stdout",
     "output_type": "stream",
     "text": [
      "India\n",
      "India\n",
      "America\n",
      "Australia\n"
     ]
    }
   ],
   "source": [
    "country=['India','America','Australia']\n",
    "print(country[0])\n",
    "a,b,c=country\n",
    "print(a)\n",
    "print(b)\n",
    "print(c)"
   ]
  },
  {
   "cell_type": "code",
   "execution_count": 20,
   "id": "6895b479",
   "metadata": {},
   "outputs": [
    {
     "name": "stdout",
     "output_type": "stream",
     "text": [
      "I am a learner\n"
     ]
    }
   ],
   "source": [
    "x='I'\n",
    "y='am'\n",
    "z='a'\n",
    "a='learner'\n",
    "print(x+\" \"+y+\" \"+z+\" \"+a)\n"
   ]
  },
  {
   "cell_type": "code",
   "execution_count": 21,
   "id": "ba6631df",
   "metadata": {},
   "outputs": [
    {
     "name": "stdout",
     "output_type": "stream",
     "text": [
      "5 John\n"
     ]
    }
   ],
   "source": [
    "x = 5\n",
    "y = \"John\"\n",
    "print(x, y)"
   ]
  },
  {
   "cell_type": "markdown",
   "id": "c183904c",
   "metadata": {},
   "source": [
    "### Global Variables:\n"
   ]
  },
  {
   "cell_type": "code",
   "execution_count": 24,
   "id": "cea3de31",
   "metadata": {},
   "outputs": [
    {
     "name": "stdout",
     "output_type": "stream",
     "text": [
      "Python is Awesome\n"
     ]
    }
   ],
   "source": [
    "x=\"Awesome\"\n",
    "def func():\n",
    "    print(\"Python is \" + x)\n",
    "    \n",
    "func()\n"
   ]
  },
  {
   "cell_type": "code",
   "execution_count": 27,
   "id": "d201e855",
   "metadata": {},
   "outputs": [
    {
     "name": "stdout",
     "output_type": "stream",
     "text": [
      "Python is Nice\n",
      "Python is awesome\n"
     ]
    }
   ],
   "source": [
    "x=\"awesome\" #global\n",
    "def func():\n",
    "    x=\"Nice\" #local\n",
    "    print(\"Python is \"+x)\n",
    "    \n",
    "    \n",
    "func()\n",
    "print(\"Python is \"+x)"
   ]
  },
  {
   "cell_type": "code",
   "execution_count": 28,
   "id": "a4c557e9",
   "metadata": {},
   "outputs": [
    {
     "name": "stdout",
     "output_type": "stream",
     "text": [
      "Python is fantastic\n"
     ]
    }
   ],
   "source": [
    "def myfunc():\n",
    "    global x\n",
    "    x=\"fantastic\"\n",
    "    \n",
    "myfunc()\n",
    "print(\"Python is \"+x)"
   ]
  },
  {
   "cell_type": "code",
   "execution_count": 29,
   "id": "a2bb8f3c",
   "metadata": {},
   "outputs": [
    {
     "name": "stdout",
     "output_type": "stream",
     "text": [
      "Python is fantastic\n"
     ]
    }
   ],
   "source": [
    "x='awesome'\n",
    "\n",
    "def myfunc():\n",
    "    global x\n",
    "    x=\"fantastic\"\n",
    "    \n",
    "myfunc()\n",
    "print(\"Python is \"+x)"
   ]
  },
  {
   "cell_type": "markdown",
   "id": "462b9ffb",
   "metadata": {},
   "source": [
    "\n",
    "### Data Types"
   ]
  },
  {
   "cell_type": "markdown",
   "id": "a5b466bf",
   "metadata": {},
   "source": [
    "#### int,float,complex"
   ]
  },
  {
   "cell_type": "code",
   "execution_count": 30,
   "id": "3f4b3de4",
   "metadata": {},
   "outputs": [
    {
     "name": "stdout",
     "output_type": "stream",
     "text": [
      "<class 'float'>\n",
      "<class 'float'>\n",
      "<class 'float'>\n"
     ]
    }
   ],
   "source": [
    "x = 35e3\n",
    "y = 12E4\n",
    "z = -87.7e100\n",
    "\n",
    "print(type(x))\n",
    "print(type(y))\n",
    "print(type(z))\n",
    "\n",
    "#Float can also be scientific numbers with an \"e\" to indicate the power of 10."
   ]
  },
  {
   "cell_type": "code",
   "execution_count": 34,
   "id": "47c8a92e",
   "metadata": {},
   "outputs": [
    {
     "name": "stdout",
     "output_type": "stream",
     "text": [
      "<class 'complex'>\n",
      "<class 'complex'>\n",
      "<class 'complex'>\n"
     ]
    }
   ],
   "source": [
    "#\"j\" as the imaginary part. In mathematics we have learned with 'i'\n",
    "x= 34+5j\n",
    "print(type(x))\n",
    "\n",
    "y = 5j\n",
    "z = -5j\n",
    "\n",
    "print(type(y))\n",
    "print(type(z))"
   ]
  },
  {
   "cell_type": "code",
   "execution_count": 45,
   "id": "7f1a79be",
   "metadata": {},
   "outputs": [
    {
     "name": "stdout",
     "output_type": "stream",
     "text": [
      "5.0\n",
      "-6\n",
      "(5+0j)\n"
     ]
    }
   ],
   "source": [
    "x=5\n",
    "y=-6.5\n",
    "z=5j\n",
    "\n",
    "a=float(x)\n",
    "b=int(y)\n",
    "d=complex(x)\n",
    "\n",
    "print(a)\n",
    "print(b)\n",
    "\n",
    "print(d)\n",
    "\n",
    "#You cannot convert complex numbers into another number type."
   ]
  },
  {
   "cell_type": "code",
   "execution_count": null,
   "id": "02e2e45b",
   "metadata": {},
   "outputs": [],
   "source": []
  }
 ],
 "metadata": {
  "kernelspec": {
   "display_name": "Python 3 (ipykernel)",
   "language": "python",
   "name": "python3"
  },
  "language_info": {
   "codemirror_mode": {
    "name": "ipython",
    "version": 3
   },
   "file_extension": ".py",
   "mimetype": "text/x-python",
   "name": "python",
   "nbconvert_exporter": "python",
   "pygments_lexer": "ipython3",
   "version": "3.11.5"
  }
 },
 "nbformat": 4,
 "nbformat_minor": 5
}
