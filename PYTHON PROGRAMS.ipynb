{
 "cells": [
  {
   "cell_type": "markdown",
   "id": "1cb2d38b",
   "metadata": {},
   "source": [
    "# PYTHON CODING\n"
   ]
  },
  {
   "cell_type": "markdown",
   "id": "e899328f",
   "metadata": {},
   "source": [
    "### Area of a rectangle"
   ]
  },
  {
   "cell_type": "code",
   "execution_count": 1,
   "id": "03efab10",
   "metadata": {},
   "outputs": [
    {
     "name": "stdout",
     "output_type": "stream",
     "text": [
      "The area of the rectangle is: 15\n"
     ]
    }
   ],
   "source": [
    "# Define the length and width of the rectangle\n",
    "length = 5\n",
    "width = 3\n",
    "# Calculate the area\n",
    "area = length * width\n",
    "# Print the area\n",
    "print(\"The area of the rectangle is:\", area)"
   ]
  },
  {
   "cell_type": "markdown",
   "id": "3c7f3371",
   "metadata": {},
   "source": [
    "### odd/even"
   ]
  },
  {
   "cell_type": "code",
   "execution_count": 2,
   "id": "04e12450",
   "metadata": {},
   "outputs": [
    {
     "name": "stdout",
     "output_type": "stream",
     "text": [
      "Enter a number: 3\n",
      "3 is an odd number.\n"
     ]
    }
   ],
   "source": [
    "# Get a number from the user\n",
    "number = int(input(\"Enter a number: \"))\n",
    "# Check if the number is even or odd\n",
    "if number % 2 == 0:\n",
    " print(number, \"is an even number.\")\n",
    "else:\n",
    " print(number, \"is an odd number.\")\n"
   ]
  },
  {
   "cell_type": "markdown",
   "id": "3a8cd4c3",
   "metadata": {},
   "source": [
    "###  Count Down from 10\n"
   ]
  },
  {
   "cell_type": "code",
   "execution_count": 3,
   "id": "83e26746",
   "metadata": {},
   "outputs": [
    {
     "name": "stdout",
     "output_type": "stream",
     "text": [
      "10\n",
      "9\n",
      "8\n",
      "7\n",
      "6\n",
      "5\n",
      "4\n",
      "3\n",
      "2\n",
      "1\n"
     ]
    }
   ],
   "source": [
    "# Count down from 10 to 1\n",
    "for i in range(10, 0, -1):\n",
    " print(i)\n"
   ]
  },
  {
   "cell_type": "markdown",
   "id": "8709ec5a",
   "metadata": {},
   "source": [
    "### Create a List of Favourite Fruits"
   ]
  },
  {
   "cell_type": "code",
   "execution_count": 4,
   "id": "6281b9cf",
   "metadata": {},
   "outputs": [
    {
     "name": "stdout",
     "output_type": "stream",
     "text": [
      "I love Apple\n",
      "I love Banana\n",
      "I love Cherry\n"
     ]
    }
   ],
   "source": [
    "# Create a list of favourite fruits\n",
    "favourite_fruits = [\"Apple\", \"Banana\", \"Cherry\"]\n",
    "# Print each fruit in the list\n",
    "for fruit in favourite_fruits:\n",
    " print(\"I love\", fruit)\n"
   ]
  },
  {
   "cell_type": "markdown",
   "id": "d591362d",
   "metadata": {},
   "source": [
    "### Determine Grade Based on Score"
   ]
  },
  {
   "cell_type": "code",
   "execution_count": 5,
   "id": "0950bac0",
   "metadata": {},
   "outputs": [
    {
     "name": "stdout",
     "output_type": "stream",
     "text": [
      "Enter your score (0-100): 40\n",
      "Your grade is: F\n"
     ]
    }
   ],
   "source": [
    "# Get the score from the user\n",
    "score = int(input(\"Enter your score (0-100): \"))\n",
    "# Determine the grade\n",
    "if score >= 90:\n",
    " print(\"Your grade is: A\")\n",
    "elif score >= 80:\n",
    " print(\"Your grade is: B\")\n",
    "elif score >= 70:\n",
    " print(\"Your grade is: C\")\n",
    "elif score >= 60:\n",
    " print(\"Your grade is: D\")\n",
    "else:\n",
    " print(\"Your grade is: F\")\n"
   ]
  },
  {
   "cell_type": "markdown",
   "id": "d4b24658",
   "metadata": {},
   "source": [
    "### Generate a Multiplication Table\n"
   ]
  },
  {
   "cell_type": "code",
   "execution_count": 6,
   "id": "7804e7f9",
   "metadata": {},
   "outputs": [
    {
     "name": "stdout",
     "output_type": "stream",
     "text": [
      "Enter a number to generate its multiplication table: 5\n",
      "5 x 1 = 5\n",
      "5 x 2 = 10\n",
      "5 x 3 = 15\n",
      "5 x 4 = 20\n",
      "5 x 5 = 25\n",
      "5 x 6 = 30\n",
      "5 x 7 = 35\n",
      "5 x 8 = 40\n",
      "5 x 9 = 45\n",
      "5 x 10 = 50\n"
     ]
    }
   ],
   "source": [
    "# Get a number from the user\n",
    "number = int(input(\"Enter a number to generate its multiplication table: \"))\n",
    "# Generate the multiplication table\n",
    "for i in range(1, 11):\n",
    " print(number, \"x\", i, \"=\", number * i)"
   ]
  },
  {
   "cell_type": "markdown",
   "id": "8afe0721",
   "metadata": {},
   "source": [
    " ### Reverse a Given String"
   ]
  },
  {
   "cell_type": "code",
   "execution_count": 8,
   "id": "a6fa6215",
   "metadata": {},
   "outputs": [
    {
     "name": "stdout",
     "output_type": "stream",
     "text": [
      "Enter a string: wizklub\n",
      "The reversed string is: bulkziw\n"
     ]
    }
   ],
   "source": [
    "# Get a string from the user\n",
    "text = input(\"Enter a string: \")\n",
    "# Reverse the string\n",
    "reversed_text = text[::-1]\n",
    "# Print the reversed string\n",
    "print(\"The reversed string is:\", reversed_text)"
   ]
  },
  {
   "cell_type": "markdown",
   "id": "6dcd391e",
   "metadata": {},
   "source": [
    "### Calculate the Perimeter of a Triangle"
   ]
  },
  {
   "cell_type": "code",
   "execution_count": 9,
   "id": "9f8419a3",
   "metadata": {},
   "outputs": [
    {
     "name": "stdout",
     "output_type": "stream",
     "text": [
      "The perimeter of the triangle is: 22\n"
     ]
    }
   ],
   "source": [
    "# Define the lengths of the sides of the triangle\n",
    "side1 = 5\n",
    "side2 = 7\n",
    "side3 = 10\n",
    "# Calculate the perimeter\n",
    "perimeter = side1 + side2 + side3\n",
    "# Print the perimeter\n",
    "print(\"The perimeter of the triangle is:\", perimeter)"
   ]
  },
  {
   "cell_type": "markdown",
   "id": "dcba04e3",
   "metadata": {},
   "source": [
    "### Find the Maximum of Three Numbers"
   ]
  },
  {
   "cell_type": "code",
   "execution_count": 10,
   "id": "ce1ae7b7",
   "metadata": {},
   "outputs": [
    {
     "name": "stdout",
     "output_type": "stream",
     "text": [
      "Enter the first number: 7\n",
      "Enter the second number: 5\n",
      "Enter the third number: 3\n",
      "The maximum number is: 7.0\n"
     ]
    }
   ],
   "source": [
    "# Get three numbers from the user\n",
    "num1 = float(input(\"Enter the first number: \"))\n",
    "num2 = float(input(\"Enter the second number: \"))\n",
    "num3 = float(input(\"Enter the third number: \"))\n",
    "# Find the maximum number\n",
    "if num1 >= num2 and num1 >= num3:\n",
    " print(\"The maximum number is:\", num1)\n",
    "elif num2 >= num1 and num2 >= num3:\n",
    " print(\"The maximum number is:\", num2)\n",
    "else:\n",
    " print(\"The maximum number is:\", num3)\n"
   ]
  },
  {
   "cell_type": "markdown",
   "id": "79f57780",
   "metadata": {},
   "source": [
    "### Build a Simple Calculator"
   ]
  },
  {
   "cell_type": "code",
   "execution_count": 20,
   "id": "b3bfd1fe",
   "metadata": {},
   "outputs": [
    {
     "name": "stdout",
     "output_type": "stream",
     "text": [
      "Welcome to the Simple Calculator!\n",
      "Choose an operation:\n",
      "1: Addition (+)\n",
      "2: Subtraction (-)\n",
      "3: Multiplication (*)\n",
      "4: Division (/)\n",
      "Enter the number corresponding to the operation (1/2/3/4): 1\n",
      "Enter the first number: 34\n",
      "Enter the second number: 23\n",
      "The result of 34.0 + 23.0 is: 57.0\n"
     ]
    }
   ],
   "source": [
    "# Introduction to the calculator\n",
    "print(\"Welcome to the Simple Calculator!\")\n",
    "print(\"Choose an operation:\")\n",
    "print(\"1: Addition (+)\")\n",
    "print(\"2: Subtraction (-)\")\n",
    "print(\"3: Multiplication (*)\")\n",
    "print(\"4: Division (/)\")\n",
    "\n",
    "# Get user input for operation\n",
    "operation = input(\"Enter the number corresponding to the operation (1/2/3/4): \")\n",
    "\n",
    "# Get user input for numbers\n",
    "num1 = float(input(\"Enter the first number: \"))\n",
    "num2 = float(input(\"Enter the second number: \"))\n",
    "\n",
    "# Perform the chosen operation\n",
    "if operation == '1':\n",
    "    result = num1 + num2\n",
    "    print(\"The result of\", num1, \"+\", num2, \"is:\", result)\n",
    "elif operation == '2':\n",
    "    result = num1 - num2\n",
    "    print(\"The result of\", num1, \"-\", num2, \"is:\", result)\n",
    "elif operation == '3':\n",
    "    result = num1 * num2\n",
    "    print(\"The result of\", num1, \"*\", num2, \"is:\", result)\n",
    "elif operation == '4':\n",
    "    if num2 != 0:  # Check for division by zero\n",
    "        result = num1 / num2\n",
    "        print(\"The result of\", num1, \"/\", num2, \"is:\", result)\n",
    "    else:\n",
    "        print(\"Error: Cannot divide by zero.\")\n",
    "else:\n",
    "    print(\"Invalid operation! Please choose a number from 1 to 4.\")\n"
   ]
  },
  {
   "cell_type": "markdown",
   "id": "b1608f7d",
   "metadata": {},
   "source": [
    "### Square root:"
   ]
  },
  {
   "cell_type": "code",
   "execution_count": 17,
   "id": "40a6d03a",
   "metadata": {},
   "outputs": [
    {
     "name": "stdout",
     "output_type": "stream",
     "text": [
      "Enter a number: 36\n",
      "The square root of 36.0 is 6.0\n"
     ]
    }
   ],
   "source": [
    "import math\n",
    "\n",
    "# Input from the user\n",
    "num = float(input(\"Enter a number: \"))\n",
    "\n",
    "# Check if the number is non-negative\n",
    "if num >= 0:\n",
    "    sqrt = math.sqrt(num)\n",
    "    print(f\"The square root of {num} is {sqrt}\")\n",
    "else:\n",
    "    print(\"Square root is not defined for negative numbers.\")\n"
   ]
  },
  {
   "cell_type": "markdown",
   "id": "1de4bb30",
   "metadata": {},
   "source": [
    "### Data Types:"
   ]
  },
  {
   "cell_type": "code",
   "execution_count": 19,
   "id": "533bc69c",
   "metadata": {},
   "outputs": [
    {
     "name": "stdout",
     "output_type": "stream",
     "text": [
      "5.0\n",
      "-6\n",
      "(5+0j)\n"
     ]
    }
   ],
   "source": [
    "x = 5\n",
    "y = -6.5\n",
    "z = 5j\n",
    "\n",
    "a = float(x)\n",
    "b = int(y)\n",
    "d = complex(x)\n",
    "\n",
    "print(a)\n",
    "print(b)\n",
    "print(d)\n"
   ]
  },
  {
   "cell_type": "code",
   "execution_count": null,
   "id": "c82a1774",
   "metadata": {},
   "outputs": [],
   "source": [
    " b\n",
    "    \\\n",
    "    \n",
    "     n"
   ]
  }
 ],
 "metadata": {
  "kernelspec": {
   "display_name": "Python 3 (ipykernel)",
   "language": "python",
   "name": "python3"
  },
  "language_info": {
   "codemirror_mode": {
    "name": "ipython",
    "version": 3
   },
   "file_extension": ".py",
   "mimetype": "text/x-python",
   "name": "python",
   "nbconvert_exporter": "python",
   "pygments_lexer": "ipython3",
   "version": "3.11.5"
  }
 },
 "nbformat": 4,
 "nbformat_minor": 5
}
