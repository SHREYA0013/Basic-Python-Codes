{
 "cells": [
  {
   "cell_type": "markdown",
   "id": "0b69282a",
   "metadata": {},
   "source": [
    "# FUNCTION:\n"
   ]
  },
  {
   "cell_type": "markdown",
   "id": "a47ca280",
   "metadata": {},
   "source": [
    "##### In programming, a function is a named block of reusable code that performs a specific task. Functions help us break down a large program into smaller, manageable pieces, making it easier to understand, test, and maintain our code. They allow us to write code once and use it multiple times, saving time and effort."
   ]
  },
  {
   "cell_type": "code",
   "execution_count": 1,
   "id": "19395801",
   "metadata": {},
   "outputs": [],
   "source": [
    "def greet():\n",
    "    print(\"Hello\") #defining"
   ]
  },
  {
   "cell_type": "code",
   "execution_count": 3,
   "id": "67decc4d",
   "metadata": {},
   "outputs": [
    {
     "name": "stdout",
     "output_type": "stream",
     "text": [
      "Hello\n",
      "None\n"
     ]
    }
   ],
   "source": [
    "print (greet()) #wrong syntax"
   ]
  },
  {
   "cell_type": "code",
   "execution_count": 4,
   "id": "251dd0c1",
   "metadata": {},
   "outputs": [
    {
     "name": "stdout",
     "output_type": "stream",
     "text": [
      "Hello\n"
     ]
    }
   ],
   "source": [
    "greet() #calling the function\n"
   ]
  },
  {
   "cell_type": "code",
   "execution_count": 9,
   "id": "aa5f6c57",
   "metadata": {},
   "outputs": [
    {
     "name": "stdout",
     "output_type": "stream",
     "text": [
      "Enter your choice: 4\n",
      "Enter your next choice: 8\n",
      "Summation:  12\n",
      "subtraction:  -4\n",
      "Multiplication:  32\n",
      "Division:  0.5\n",
      "Thank you\n"
     ]
    }
   ],
   "source": [
    "def arithmatic():\n",
    "    a= int(input(\"Enter your choice: \"))\n",
    "    b=int(input(\"Enter your next choice: \"))\n",
    "    print(\"Summation: \",a+b)\n",
    "    print(\"subtraction: \",a-b)\n",
    "    print(\"Multiplication: \",a*b)\n",
    "    print(\"Division: \",a/b)\n",
    "    print(\"Thank you\")\n",
    "\n",
    "arithmatic()"
   ]
  },
  {
   "cell_type": "markdown",
   "id": "a93de07f",
   "metadata": {},
   "source": [
    "## PIZZA RECIPE"
   ]
  },
  {
   "cell_type": "code",
   "execution_count": 12,
   "id": "d9595e47",
   "metadata": {},
   "outputs": [
    {
     "name": "stdout",
     "output_type": "stream",
     "text": [
      "To make Margharita Pizza,we need cheese and tomato ,these toppings!\n"
     ]
    }
   ],
   "source": [
    "#just like different ingredients for different pizzas the function also needs smoe different pieces of informations(called Arguments)\n",
    "\n",
    "def making_pizza(pizza_type,toppings): #function name(arguments,arguments)\n",
    "    print(\"To make\",pizza_type,\"Pizza,we need\",toppings,\",these toppings!\")\n",
    "    \n",
    "making_pizza(\"Margharita\",\"cheese and tomato\")\n",
    "\n"
   ]
  },
  {
   "cell_type": "markdown",
   "id": "4d442695",
   "metadata": {},
   "source": [
    "## Addition of functions:"
   ]
  },
  {
   "cell_type": "code",
   "execution_count": 13,
   "id": "bef8bed3",
   "metadata": {},
   "outputs": [],
   "source": [
    "def addition(x,y):  #addition function name(parameter1,parameter2)\n",
    "    return x+y"
   ]
  },
  {
   "cell_type": "code",
   "execution_count": 17,
   "id": "7288836d",
   "metadata": {},
   "outputs": [
    {
     "name": "stdout",
     "output_type": "stream",
     "text": [
      "result is:  7\n"
     ]
    }
   ],
   "source": [
    "num1=2\n",
    "num2=5\n",
    "result= addition(num1,num2) #calling function with two arguments\n",
    "print(\"result is: \",result)"
   ]
  },
  {
   "cell_type": "markdown",
   "id": "11c23150",
   "metadata": {},
   "source": [
    "## Sqare"
   ]
  },
  {
   "cell_type": "code",
   "execution_count": 24,
   "id": "25a40dc6",
   "metadata": {},
   "outputs": [
    {
     "name": "stdout",
     "output_type": "stream",
     "text": [
      "The result is: 27889\n"
     ]
    }
   ],
   "source": [
    "def finding_sqaure(a):\n",
    "    result=a*a\n",
    "    return result\n",
    "\n",
    "num=167\n",
    "value= finding_sqaure(num)\n",
    "print(\"The result is:\",value)"
   ]
  },
  {
   "cell_type": "markdown",
   "id": "9fd683d6",
   "metadata": {},
   "source": [
    "## odd-even no checking"
   ]
  },
  {
   "cell_type": "code",
   "execution_count": 42,
   "id": "faa97a6f",
   "metadata": {},
   "outputs": [
    {
     "name": "stdout",
     "output_type": "stream",
     "text": [
      "Enter your choice: 6\n",
      "It is an even number\n",
      "None\n"
     ]
    }
   ],
   "source": [
    "def odd_even(a): #function along with the parameter\n",
    "    if a%2==0:\n",
    "        print(\"It is an even number\")        \n",
    "    else:\n",
    "        print(\"Odd no\")\n",
    "        return a\n",
    "        \n",
    "x=int(input(\"Enter your choice: \"))\n",
    "result= odd_even(x)\n",
    "print(result)\n"
   ]
  },
  {
   "cell_type": "code",
   "execution_count": 45,
   "id": "c3ec5339",
   "metadata": {},
   "outputs": [
    {
     "name": "stdout",
     "output_type": "stream",
     "text": [
      "71 is odd\n"
     ]
    }
   ],
   "source": [
    "# Define a number \n",
    "number = 71\n",
    "# Check if the number is even or odd \n",
    "\n",
    "if number % 2 == 0: \n",
    " print(number, \"is even\") \n",
    "else:\n",
    " print(number, \"is odd\")"
   ]
  },
  {
   "cell_type": "markdown",
   "id": "dd0ca16a",
   "metadata": {},
   "source": [
    "## Prime no"
   ]
  },
  {
   "cell_type": "code",
   "execution_count": 34,
   "id": "8f106b30",
   "metadata": {},
   "outputs": [
    {
     "name": "stdout",
     "output_type": "stream",
     "text": [
      "70 is not a prime number.\n"
     ]
    }
   ],
   "source": [
    "def is_prime(n):\n",
    "    if n <= 1:  # 0 and 1 are not prime numbers\n",
    "        return False\n",
    "    for i in range(2, int(n**0.5) + 1):  # Check divisibility from 2 to sqrt(n)\n",
    "        if n % i == 0:\n",
    "            return False\n",
    "    return True\n",
    "\n",
    "# Test the function\n",
    "num = 70\n",
    "if is_prime(num):\n",
    "    print(f\"{num} is a prime number.\")\n",
    "else:\n",
    "    print(f\"{num} is not a prime number.\")\n"
   ]
  },
  {
   "cell_type": "code",
   "execution_count": 43,
   "id": "71843147",
   "metadata": {},
   "outputs": [
    {
     "name": "stdout",
     "output_type": "stream",
     "text": [
      "Enter a no to check if it is prime or not: 9\n",
      "Your choice is not a prime number,retry\n",
      "Have a great day\n"
     ]
    }
   ],
   "source": [
    "def prime(n):\n",
    "    if n<=1: \n",
    "        return False #as 0 and 1 are not prime nos\n",
    "    for i in range (2,int(n**0.5)+1): # Check divisibility from 2 to sqrt(n)\n",
    "        if n%i==0:\n",
    "            return False\n",
    "    else:\n",
    "        return True\n",
    "\n",
    "x=int(input (\"Enter a no to check if it is prime or not: \"))\n",
    "if prime(x):\n",
    "    print(f\"Your choice is a prime number\")\n",
    "else:\n",
    "    print(f\"Your choice is not a prime number,retry\")\n",
    "\n",
    "print(\"Have a great day\")\n",
    "\n",
    "#For n = 37:\n",
    "#n**0.5 is approximately 6.08, so the range becomes range(2, 7), meaning it will check for divisors 2, 3, 4, 5, 6.\n",
    "#If none of these numbers divide 37 evenly, the loop ends and the number is determined to be prime."
   ]
  },
  {
   "cell_type": "markdown",
   "id": "c6f49bc6",
   "metadata": {},
   "source": [
    "## Area of a Rectangle:"
   ]
  },
  {
   "cell_type": "code",
   "execution_count": 46,
   "id": "54bbd246",
   "metadata": {},
   "outputs": [
    {
     "name": "stdout",
     "output_type": "stream",
     "text": [
      "Enter the height of your rectangle: 5\n",
      "Enter the width of your rectangle: 7\n",
      "Area is:  35\n"
     ]
    }
   ],
   "source": [
    "def area_of_rectangle(height,width):\n",
    "    area= height*width\n",
    "    return area\n",
    "\n",
    "h=int(input(\"Enter the height of your rectangle: \"))\n",
    "w=int(input(\"Enter the width of your rectangle: \"))\n",
    "area= area_of_rectangle(h,w)\n",
    "print(\"Area is: \",area)"
   ]
  },
  {
   "cell_type": "markdown",
   "id": "e0707f65",
   "metadata": {},
   "source": [
    "## Find the Maximum of Two Numbers:\n"
   ]
  },
  {
   "cell_type": "code",
   "execution_count": 49,
   "id": "1bf737c6",
   "metadata": {},
   "outputs": [
    {
     "name": "stdout",
     "output_type": "stream",
     "text": [
      "enter your no 1: 8\n",
      "enter your no 2: 9\n",
      "This is the bigger one  9\n"
     ]
    }
   ],
   "source": [
    "def max_min(a,b):\n",
    "    return max(a,b) \n",
    "x= int(input(\"enter your no 1: \"))\n",
    "y=int(input(\"enter your no 2: \"))\n",
    "result=max(x,y)\n",
    "print(\"This is the bigger one \",result)"
   ]
  },
  {
   "cell_type": "code",
   "execution_count": 51,
   "id": "beb95e67",
   "metadata": {},
   "outputs": [
    {
     "name": "stdout",
     "output_type": "stream",
     "text": [
      "Enter your number 1: 7\n",
      "Enter your number 2: 7\n",
      "invalid\n"
     ]
    }
   ],
   "source": [
    "def max_min(a, b):\n",
    "    if a != b:  # Corrected comparison\n",
    "        return max(a, b)  # Use the max() function to return the larger number\n",
    "    else:\n",
    "        return \"invalid\"  # Return \"invalid\" when the numbers are equal\n",
    "\n",
    "x = int(input(\"Enter your number 1: \"))\n",
    "y = int(input(\"Enter your number 2: \"))\n",
    "\n",
    "result = max_min(x, y)  # Use the max_min function\n",
    "\n",
    "if result != \"invalid\":\n",
    "    print(\"This is the bigger one:\", result)\n",
    "else:\n",
    "    print(result)  # Print \"invalid\" if the numbers are equal\n"
   ]
  },
  {
   "cell_type": "code",
   "execution_count": null,
   "id": "2ba45aad",
   "metadata": {},
   "outputs": [],
   "source": []
  }
 ],
 "metadata": {
  "kernelspec": {
   "display_name": "Python 3 (ipykernel)",
   "language": "python",
   "name": "python3"
  },
  "language_info": {
   "codemirror_mode": {
    "name": "ipython",
    "version": 3
   },
   "file_extension": ".py",
   "mimetype": "text/x-python",
   "name": "python",
   "nbconvert_exporter": "python",
   "pygments_lexer": "ipython3",
   "version": "3.11.5"
  }
 },
 "nbformat": 4,
 "nbformat_minor": 5
}
