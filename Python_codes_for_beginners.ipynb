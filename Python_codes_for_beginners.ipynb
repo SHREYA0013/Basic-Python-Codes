{
  "nbformat": 4,
  "nbformat_minor": 0,
  "metadata": {
    "colab": {
      "provenance": []
    },
    "kernelspec": {
      "name": "python3",
      "display_name": "Python 3"
    },
    "language_info": {
      "name": "python"
    }
  },
  "cells": [
    {
      "cell_type": "markdown",
      "source": [
        "HELLO!\n",
        "WELCOME NEW CODERS!\n",
        "HOPE YOU WILL GONNA HAVE AN WONDERFUL CODING JOURNEY AHEAD!"
      ],
      "metadata": {
        "id": "YvAq7_lnEe2x"
      }
    },
    {
      "cell_type": "code",
      "execution_count": 3,
      "metadata": {
        "colab": {
          "base_uri": "https://localhost:8080/"
        },
        "id": "-S0XbKmk-X_p",
        "outputId": "3a8a2bb8-c4ea-4652-af38-a78b42abd9fd"
      },
      "outputs": [
        {
          "output_type": "stream",
          "name": "stdout",
          "text": [
            "9\n",
            "Hello all\n"
          ]
        }
      ],
      "source": [
        "x=3\n",
        "x=x*3\n",
        "print(x)\n",
        "print(\"Hello all\")"
      ]
    },
    {
      "cell_type": "markdown",
      "source": [
        "**Variables in Python**"
      ],
      "metadata": {
        "id": "ROXoSV_d_GxD"
      }
    },
    {
      "cell_type": "code",
      "source": [
        "num_of_laptops=5 #numerical variable\n",
        "owner_of_laptop=\"XYZ\" #string variable\n",
        "print(owner_of_laptop, \"owns\", num_of_laptops, \"\\nThank you\")"
      ],
      "metadata": {
        "colab": {
          "base_uri": "https://localhost:8080/"
        },
        "id": "Cu022DIM_MWk",
        "outputId": "089d54f4-78ec-417f-d775-693cf9067729"
      },
      "execution_count": 6,
      "outputs": [
        {
          "output_type": "stream",
          "name": "stdout",
          "text": [
            "XYZ owns 5 \n",
            "Thank you\n"
          ]
        }
      ]
    },
    {
      "cell_type": "markdown",
      "source": [
        "reserved keywords we cannot use for variable name"
      ],
      "metadata": {
        "id": "LwFaiwOMArgU"
      }
    },
    {
      "cell_type": "markdown",
      "source": [
        "**Arithmetic Opeararion**"
      ],
      "metadata": {
        "id": "KTQkoZHRAjb-"
      }
    },
    {
      "cell_type": "code",
      "source": [
        "p=35.8\n",
        "q=90\n",
        "print(\"summation= \",p+q)\n",
        "print(\"subtraction= \",p-q)\n",
        "print(\"multiplication= \",p*q)\n",
        "print(\"division= \",p*q)\n",
        "print(\"modulus=\",p%q) #for printing reminder like 10/2=5 and 10%2=0\n",
        "print(\"exponentiation= \",p**q)"
      ],
      "metadata": {
        "colab": {
          "base_uri": "https://localhost:8080/"
        },
        "id": "LP3N8VEBBCd1",
        "outputId": "d243a268-a1a9-4f1c-b549-02a82bdba65b"
      },
      "execution_count": 11,
      "outputs": [
        {
          "output_type": "stream",
          "name": "stdout",
          "text": [
            "summation=  125.8\n",
            "subtraction=  -54.2\n",
            "multiplication=  3221.9999999999995\n",
            "division=  3221.9999999999995\n",
            "modulus= 35.8\n",
            "exponentiation=  7.070862596280334e+139\n"
          ]
        }
      ]
    },
    {
      "cell_type": "markdown",
      "source": [
        "**Logical Operators**"
      ],
      "metadata": {
        "id": "bbAP_n-8Eu0B"
      }
    },
    {
      "cell_type": "code",
      "source": [
        "x=6\n",
        "y=9\n",
        "\n",
        "print(\"use of 'and' operator\")\n",
        "print(x>3 and y<10)\n",
        "print(x<4 and y<10)\n",
        "#for 'and' both statements has to be true\n",
        "\n",
        "print(\"use of 'or' operator\")\n",
        "print(x>3 or y<10)\n",
        "print(x<4 or y<10)\n",
        "print(x>4 or y<10)\n",
        "#for 'or' any one of the statement has to be true\n",
        "\n",
        "print(\"use of 'not' operator\")\n",
        "print(not(x>4))\n",
        "print(not(y<8))\n",
        "#reverse everything like x is actually greater than 4.but it reads absolutely opposite.\n",
        "#so it will print false when it is true"
      ],
      "metadata": {
        "colab": {
          "base_uri": "https://localhost:8080/"
        },
        "id": "U8SQ5hMPEAQq",
        "outputId": "eeff0972-660b-467b-e9a6-8e869205ca9f"
      },
      "execution_count": 17,
      "outputs": [
        {
          "output_type": "stream",
          "name": "stdout",
          "text": [
            "use of 'and' operator\n",
            "True\n",
            "False\n",
            "use of 'or' operator\n",
            "True\n",
            "True\n",
            "True\n",
            "use of 'not' operator\n",
            "False\n",
            "True\n"
          ]
        }
      ]
    },
    {
      "cell_type": "code",
      "source": [
        "City=input(\"Where are you from?\\n\")\n",
        "print(\"\\nHey!I am from: \"+ City)"
      ],
      "metadata": {
        "colab": {
          "base_uri": "https://localhost:8080/"
        },
        "id": "rxuSh6DyIOyZ",
        "outputId": "09a49d74-4aee-4428-9f1c-13bec25a035c"
      },
      "execution_count": 18,
      "outputs": [
        {
          "output_type": "stream",
          "name": "stdout",
          "text": [
            "Where are you from?\n",
            "Kolkata\n",
            "\n",
            "Hey!I am from: Kolkata\n"
          ]
        }
      ]
    },
    {
      "cell_type": "code",
      "source": [],
      "metadata": {
        "id": "bV8zviehLhkX"
      },
      "execution_count": null,
      "outputs": []
    }
  ]
}